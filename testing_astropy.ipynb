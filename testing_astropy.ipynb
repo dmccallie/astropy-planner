{
 "cells": [
  {
   "cell_type": "code",
   "execution_count": 20,
   "metadata": {},
   "outputs": [],
   "source": [
    "from astropy.coordinates import SkyCoord, EarthLocation, AltAz\n",
    "import astropy.units as u\n",
    "from astroplan import FixedTarget, Observer\n",
    "from astropy.time import Time"
   ]
  },
  {
   "cell_type": "code",
   "execution_count": 22,
   "metadata": {},
   "outputs": [
    {
     "data": {
      "text/plain": [
       "False"
      ]
     },
     "execution_count": 22,
     "metadata": {},
     "output_type": "execute_result"
    }
   ],
   "source": [
    "# altair = FixedTarget.from_name('Altair')\n",
    "powell = Observer(latitude=38.64633*u.deg, longitude=-94.699973*u.deg, elevation=300*u.m, name=\"Powell Observatory\", timezone=\"US/Central\")\n",
    "m42 = FixedTarget.from_name('M13')\n",
    "powell.target_is_up(Time.now(), m42)"
   ]
  }
 ],
 "metadata": {
  "kernelspec": {
   "display_name": "cf310",
   "language": "python",
   "name": "python3"
  },
  "language_info": {
   "codemirror_mode": {
    "name": "ipython",
    "version": 3
   },
   "file_extension": ".py",
   "mimetype": "text/x-python",
   "name": "python",
   "nbconvert_exporter": "python",
   "pygments_lexer": "ipython3",
   "version": "3.10.12"
  }
 },
 "nbformat": 4,
 "nbformat_minor": 2
}
